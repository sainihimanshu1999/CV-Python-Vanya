{
 "cells": [
  {
   "cell_type": "markdown",
   "id": "a1cc9cfc",
   "metadata": {},
   "source": [
    "# LOOPS and particulary While loops\n"
   ]
  },
  {
   "cell_type": "code",
   "execution_count": 1,
   "id": "66539018",
   "metadata": {},
   "outputs": [
    {
     "name": "stdout",
     "output_type": "stream",
     "text": [
      "1\n",
      "2\n",
      "3\n"
     ]
    }
   ],
   "source": [
    "print(1)\n",
    "print(2)\n",
    "print(3)"
   ]
  },
  {
   "cell_type": "code",
   "execution_count": 2,
   "id": "517a3287",
   "metadata": {},
   "outputs": [],
   "source": [
    "#iteration, basically one cycle of the loop is completed it's called an interation"
   ]
  },
  {
   "cell_type": "code",
   "execution_count": 8,
   "id": "5fdd4857",
   "metadata": {},
   "outputs": [
    {
     "name": "stdout",
     "output_type": "stream",
     "text": [
      "0\n",
      "this is iteration number 1\n",
      "1\n",
      "this is iteration number 2\n",
      "2\n",
      "this is iteration number 3\n",
      "3\n",
      "this is iteration number 4\n",
      "4\n",
      "this is iteration number 5\n",
      "5\n",
      "this is iteration number 6\n",
      "6\n",
      "this is iteration number 7\n",
      "7\n",
      "this is iteration number 8\n",
      "8\n",
      "this is iteration number 9\n",
      "9\n",
      "this is iteration number 10\n",
      "10\n",
      "this is iteration number 11\n",
      "11\n",
      "this is iteration number 12\n",
      "12\n",
      "this is iteration number 13\n",
      "13\n",
      "this is iteration number 14\n",
      "14\n",
      "this is iteration number 15\n",
      "15\n",
      "this is iteration number 16\n",
      "16\n",
      "this is iteration number 17\n",
      "17\n",
      "this is iteration number 18\n",
      "18\n",
      "this is iteration number 19\n",
      "19\n",
      "this is iteration number 20\n",
      "20\n",
      "this is iteration number 21\n",
      "80\n"
     ]
    }
   ],
   "source": [
    "i = 0\n",
    "\n",
    "while i!=21:\n",
    "    print(i)\n",
    "    print('this is iteration number',i+1)\n",
    "    i = i+1 # i+= 1\n",
    "    \n",
    "print(80)"
   ]
  },
  {
   "cell_type": "code",
   "execution_count": 9,
   "id": "7d56639d",
   "metadata": {},
   "outputs": [
    {
     "name": "stdout",
     "output_type": "stream",
     "text": [
      "['icecream', 'vanilla', 'misletoe', 'chocolate', 1983]\n"
     ]
    }
   ],
   "source": [
    "a = ['icecream','vanilla','misletoe','chocolate',1983]\n",
    "print(a)"
   ]
  },
  {
   "cell_type": "code",
   "execution_count": 10,
   "id": "bde02d7e",
   "metadata": {},
   "outputs": [
    {
     "name": "stdout",
     "output_type": "stream",
     "text": [
      "icecream\n",
      "vanilla\n",
      "misletoe\n"
     ]
    }
   ],
   "source": [
    "print(a[0])\n",
    "print(a[1])\n",
    "print(a[2])"
   ]
  },
  {
   "cell_type": "code",
   "execution_count": 11,
   "id": "d14e47ea",
   "metadata": {},
   "outputs": [
    {
     "name": "stdout",
     "output_type": "stream",
     "text": [
      "5\n"
     ]
    }
   ],
   "source": [
    "print(len(a))"
   ]
  },
  {
   "cell_type": "code",
   "execution_count": 12,
   "id": "61a8a889",
   "metadata": {},
   "outputs": [
    {
     "name": "stdout",
     "output_type": "stream",
     "text": [
      "icecream\n",
      "vanilla\n",
      "misletoe\n",
      "chocolate\n",
      "1983\n"
     ]
    }
   ],
   "source": [
    "i = 0\n",
    "\n",
    "\n",
    "while i!=len(a):\n",
    "    print(a[i])\n",
    "    i = i+1\n",
    "    \n",
    "#i = 0 a[0] = iceream , i= 0+1 = 1\n",
    "# i = 1  a[1]=vanilla  i= 1+1 = 2"
   ]
  },
  {
   "cell_type": "code",
   "execution_count": 14,
   "id": "9b0b5df6",
   "metadata": {},
   "outputs": [
    {
     "name": "stdout",
     "output_type": "stream",
     "text": [
      "enter any number you want90\n",
      "0\n",
      "2\n",
      "4\n",
      "6\n",
      "8\n",
      "10\n",
      "12\n",
      "14\n",
      "16\n",
      "18\n",
      "20\n",
      "22\n",
      "24\n",
      "26\n",
      "28\n",
      "30\n",
      "32\n",
      "34\n",
      "36\n",
      "38\n",
      "40\n",
      "42\n",
      "44\n",
      "46\n",
      "48\n",
      "50\n",
      "52\n",
      "54\n",
      "56\n",
      "58\n",
      "60\n",
      "62\n",
      "64\n",
      "66\n",
      "68\n",
      "70\n",
      "72\n",
      "74\n",
      "76\n",
      "78\n",
      "80\n",
      "82\n",
      "84\n",
      "86\n",
      "88\n"
     ]
    }
   ],
   "source": [
    "i = 0\n",
    "x = int(input('enter any number you want'))\n",
    "\n",
    "while i!=x:\n",
    "    print(i)\n",
    "    i = i+2\n",
    "    "
   ]
  },
  {
   "cell_type": "markdown",
   "id": "baf00134",
   "metadata": {},
   "source": [
    "# Break\n"
   ]
  },
  {
   "cell_type": "code",
   "execution_count": 16,
   "id": "3f76d5bc",
   "metadata": {},
   "outputs": [
    {
     "name": "stdout",
     "output_type": "stream",
     "text": [
      "0\n",
      "2\n",
      "4\n",
      "6\n",
      "8\n",
      "10\n",
      "12\n",
      "14\n"
     ]
    }
   ],
   "source": [
    "i = 0\n",
    "\n",
    "while i<=20:\n",
    "    print(i)\n",
    "    if i == 14:\n",
    "        break\n",
    "    i = i+2\n",
    "    \n",
    "    \n",
    "        "
   ]
  },
  {
   "cell_type": "markdown",
   "id": "484cff22",
   "metadata": {},
   "source": [
    "# Continue Statement"
   ]
  },
  {
   "cell_type": "code",
   "execution_count": 20,
   "id": "4028b261",
   "metadata": {},
   "outputs": [
    {
     "name": "stdout",
     "output_type": "stream",
     "text": [
      "0\n",
      "1\n",
      "2\n",
      "3\n",
      "6\n",
      "7\n",
      "8\n",
      "9\n",
      "10\n",
      "11\n",
      "12\n",
      "13\n",
      "14\n",
      "15\n",
      "16\n",
      "17\n",
      "18\n",
      "19\n",
      "20\n"
     ]
    }
   ],
   "source": [
    "i = 0\n",
    "\n",
    "while i<=20:\n",
    "    print(i)\n",
    "    i= i+1\n",
    "    \n",
    "    if i== 4:\n",
    "        i = i+2\n",
    "        continue"
   ]
  },
  {
   "cell_type": "markdown",
   "id": "1b97460b",
   "metadata": {},
   "source": [
    "# PASS statement\n"
   ]
  },
  {
   "cell_type": "code",
   "execution_count": 21,
   "id": "2dae5ae2",
   "metadata": {},
   "outputs": [
    {
     "name": "stdout",
     "output_type": "stream",
     "text": [
      "0\n",
      "2\n",
      "4\n",
      "6\n",
      "8\n",
      "10\n",
      "12\n",
      "14\n",
      "16\n",
      "18\n",
      "20\n"
     ]
    }
   ],
   "source": [
    "i = 0\n",
    "\n",
    "while i<=20:\n",
    "    print(i)\n",
    "    i += 2\n",
    "    \n",
    "    if i == 16:\n",
    "        pass\n",
    "        \n",
    "        \n",
    "    \n"
   ]
  },
  {
   "cell_type": "code",
   "execution_count": null,
   "id": "4c91a4be",
   "metadata": {},
   "outputs": [],
   "source": []
  },
  {
   "cell_type": "code",
   "execution_count": null,
   "id": "dc9c3267",
   "metadata": {},
   "outputs": [],
   "source": []
  },
  {
   "cell_type": "code",
   "execution_count": null,
   "id": "ca38d932",
   "metadata": {},
   "outputs": [],
   "source": []
  },
  {
   "cell_type": "code",
   "execution_count": null,
   "id": "e2804fb1",
   "metadata": {},
   "outputs": [],
   "source": []
  },
  {
   "cell_type": "code",
   "execution_count": null,
   "id": "097f9d32",
   "metadata": {},
   "outputs": [],
   "source": []
  },
  {
   "cell_type": "code",
   "execution_count": null,
   "id": "e663c3d4",
   "metadata": {},
   "outputs": [],
   "source": []
  },
  {
   "cell_type": "code",
   "execution_count": null,
   "id": "2c70f4cf",
   "metadata": {},
   "outputs": [],
   "source": []
  }
 ],
 "metadata": {
  "kernelspec": {
   "display_name": "Python 3 (ipykernel)",
   "language": "python",
   "name": "python3"
  },
  "language_info": {
   "codemirror_mode": {
    "name": "ipython",
    "version": 3
   },
   "file_extension": ".py",
   "mimetype": "text/x-python",
   "name": "python",
   "nbconvert_exporter": "python",
   "pygments_lexer": "ipython3",
   "version": "3.9.7"
  }
 },
 "nbformat": 4,
 "nbformat_minor": 5
}
