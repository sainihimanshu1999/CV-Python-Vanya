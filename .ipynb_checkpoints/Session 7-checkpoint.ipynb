{
 "cells": [
  {
   "cell_type": "markdown",
   "id": "f914c6e1",
   "metadata": {},
   "source": [
    "# More Details and Usages of WHILE LOOP"
   ]
  },
  {
   "cell_type": "code",
   "execution_count": 1,
   "id": "79bb5ae6",
   "metadata": {},
   "outputs": [],
   "source": [
    "# Printing a pattern"
   ]
  },
  {
   "cell_type": "code",
   "execution_count": 14,
   "id": "148a4204",
   "metadata": {},
   "outputs": [
    {
     "name": "stdout",
     "output_type": "stream",
     "text": [
      "*  *  *  *  *  *  *  *  *  *  *  *  *  *  *  *  \n",
      "*  *  *  *  *  *  *  *  *  *  *  *  *  *  *  *  \n",
      "*  *  *  *  *  *  *  *  *  *  *  *  *  *  *  *  \n",
      "*  *  *  *  *  *  *  *  *  *  *  *  *  *  *  *  \n",
      "*  *  *  *  *  *  *  *  *  *  *  *  *  *  *  *  \n",
      "*  *  *  *  *  *  *  *  *  *  *  *  *  *  *  *  \n",
      "*  *  *  *  *  *  *  *  *  *  *  *  *  *  *  *  \n",
      "*  *  *  *  *  *  *  *  *  *  *  *  *  *  *  *  \n",
      "*  *  *  *  *  *  *  *  *  *  *  *  *  *  *  *  \n"
     ]
    }
   ],
   "source": [
    "i = 0 #height\n",
    "\n",
    "while i!=9:\n",
    "    \n",
    "    j = 0\n",
    "    \n",
    "    while j!=16:\n",
    "        print('*',end = '  ')\n",
    "        j = j+1\n",
    "    print('')\n",
    "        \n",
    "    i= i +1\n",
    "    \n",
    "    \n"
   ]
  },
  {
   "cell_type": "code",
   "execution_count": 13,
   "id": "69d73f20",
   "metadata": {},
   "outputs": [
    {
     "name": "stdout",
     "output_type": "stream",
     "text": [
      "\n",
      "* \n",
      "* * \n",
      "* * * \n",
      "* * * * \n",
      "* * * * * \n",
      "* * * * * * \n",
      "* * * * * * * \n",
      "* * * * * * * * \n",
      "* * * * * * * * * \n",
      "* * * * * * * * * * \n",
      "* * * * * * * * * * * \n",
      "* * * * * * * * * * * * \n",
      "* * * * * * * * * * * * * \n"
     ]
    }
   ],
   "source": [
    "i = 0 # width\n",
    "\n",
    "while i!=14:\n",
    "\n",
    "    j = 0\n",
    "    \n",
    "    while j!=i:\n",
    "        print('*',end=' ')\n",
    "        j += 1\n",
    "        \n",
    "    print('')\n",
    "        \n",
    "    i += 1\n",
    "    \n",
    "    "
   ]
  },
  {
   "cell_type": "code",
   "execution_count": 15,
   "id": "fe48b7a3",
   "metadata": {},
   "outputs": [],
   "source": [
    "# easy method"
   ]
  },
  {
   "cell_type": "code",
   "execution_count": 17,
   "id": "848f283a",
   "metadata": {},
   "outputs": [
    {
     "name": "stdout",
     "output_type": "stream",
     "text": [
      "Please ennter your number34\n",
      "43\n",
      "Please ennter your number90\n",
      "09\n",
      "Please ennter your number0284091284091\n",
      "1904821904820\n",
      "Please ennter your numberover\n"
     ]
    }
   ],
   "source": [
    "while True:\n",
    "    num = input('Please ennter your number')\n",
    "    \n",
    "    if num == 'over':\n",
    "        break\n",
    "        \n",
    "    else:\n",
    "        num = num[::-1]\n",
    "        print(num)\n",
    "        "
   ]
  },
  {
   "cell_type": "code",
   "execution_count": 18,
   "id": "353359bd",
   "metadata": {},
   "outputs": [],
   "source": [
    "# hard way"
   ]
  },
  {
   "cell_type": "code",
   "execution_count": 23,
   "id": "f9acede1",
   "metadata": {},
   "outputs": [
    {
     "name": "stdout",
     "output_type": "stream",
     "text": [
      "Please enter your number54\n",
      "45\n",
      "Please enter your numberover\n"
     ]
    }
   ],
   "source": [
    "while True:\n",
    "    num = input('Please enter your number')\n",
    "    \n",
    "    if num == 'over':\n",
    "        break\n",
    "        \n",
    "    else:\n",
    "        num = int(num)\n",
    "        \n",
    "        \n",
    "        digits = []\n",
    "        \n",
    "        while num!=0:\n",
    "            #1st iteration\n",
    "            #54\n",
    "            # digits= [ ] digits = [4,]\n",
    "            #2nd iteration\n",
    "            #5\n",
    "            #digits =[4] digits = [4,5]\n",
    "            digits.append(num%10)\n",
    "            #54 \n",
    "            # 5\n",
    "            # 0 \n",
    "            num = num//10\n",
    "            \n",
    "        # digits = [4,5]\n",
    "        #len(digits)= 2\n",
    "        #i = last element\n",
    "        #j = 1st element\n",
    "        i = len(digits)-1\n",
    "        j = 0\n",
    "        \n",
    "        while i != -1:\n",
    "            num = num + digits[i]*(10**j)\n",
    "            i  = i-1\n",
    "            j = j+1\n",
    "            \n",
    "        print(num)\n",
    "            \n",
    "            \n",
    "            \n",
    "        \n",
    "        "
   ]
  },
  {
   "cell_type": "code",
   "execution_count": null,
   "id": "1324a07d",
   "metadata": {},
   "outputs": [],
   "source": [
    "# right password"
   ]
  },
  {
   "cell_type": "code",
   "execution_count": 2,
   "id": "006c0223",
   "metadata": {},
   "outputs": [
    {
     "name": "stdout",
     "output_type": "stream",
     "text": [
      "please enter your passwordapples\n",
      "apples\n",
      "please enter your passwordgrapes\n",
      "grapes,apples\n",
      "please enter your passwordmango\n",
      "mango,grapes\n",
      "please enter your passwordbanana\n"
     ]
    }
   ],
   "source": [
    "password = 'banana'\n",
    "\n",
    "previous = input('please enter your password')\n",
    "\n",
    "if previous == password:\n",
    "    exit()\n",
    "    \n",
    "else:\n",
    "    print(previous)\n",
    "    \n",
    "while True:\n",
    "    current = input('please enter your password')\n",
    "    \n",
    "    if (current == password) or (current=='stop'):\n",
    "        break\n",
    "    else:\n",
    "        print('{},{}'.format(current,previous))\n",
    "        previous = current\n",
    "        \n",
    "        \n",
    "        \n",
    "# apple\n",
    "# op - apple\n",
    "# grapes\n",
    "#op - grapes, apples\n",
    "# grapes\n",
    "# mango\n",
    "#op- mango,grapes\n",
    "\n",
    "    \n",
    "    \n"
   ]
  },
  {
   "cell_type": "code",
   "execution_count": null,
   "id": "b9bddb45",
   "metadata": {},
   "outputs": [],
   "source": []
  }
 ],
 "metadata": {
  "kernelspec": {
   "display_name": "Python 3 (ipykernel)",
   "language": "python",
   "name": "python3"
  },
  "language_info": {
   "codemirror_mode": {
    "name": "ipython",
    "version": 3
   },
   "file_extension": ".py",
   "mimetype": "text/x-python",
   "name": "python",
   "nbconvert_exporter": "python",
   "pygments_lexer": "ipython3",
   "version": "3.9.7"
  }
 },
 "nbformat": 4,
 "nbformat_minor": 5
}
