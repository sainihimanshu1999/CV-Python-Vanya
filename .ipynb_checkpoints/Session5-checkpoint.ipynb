{
 "cells": [
  {
   "cell_type": "markdown",
   "id": "5f5ccfcd",
   "metadata": {},
   "source": [
    "Comparsion Operators"
   ]
  },
  {
   "cell_type": "code",
   "execution_count": 1,
   "id": "ba024f36",
   "metadata": {},
   "outputs": [
    {
     "name": "stdout",
     "output_type": "stream",
     "text": [
      "False\n"
     ]
    }
   ],
   "source": [
    "# == it compares the two values\n",
    "\n",
    "print(5==2)"
   ]
  },
  {
   "cell_type": "code",
   "execution_count": 2,
   "id": "13ae8e71",
   "metadata": {},
   "outputs": [
    {
     "name": "stdout",
     "output_type": "stream",
     "text": [
      "True\n"
     ]
    }
   ],
   "source": [
    "print(5==5)"
   ]
  },
  {
   "cell_type": "code",
   "execution_count": 3,
   "id": "1971f253",
   "metadata": {},
   "outputs": [
    {
     "name": "stdout",
     "output_type": "stream",
     "text": [
      "True\n"
     ]
    }
   ],
   "source": [
    "print('vanya'=='vanya')"
   ]
  },
  {
   "cell_type": "code",
   "execution_count": 4,
   "id": "eb3cce0f",
   "metadata": {},
   "outputs": [
    {
     "name": "stdout",
     "output_type": "stream",
     "text": [
      "False\n"
     ]
    }
   ],
   "source": [
    "print('vanya' == 'xo')"
   ]
  },
  {
   "cell_type": "code",
   "execution_count": 5,
   "id": "62c8c874",
   "metadata": {},
   "outputs": [],
   "source": [
    "# != not equals to, it gives true when the thing along sides are not equal\n"
   ]
  },
  {
   "cell_type": "code",
   "execution_count": 6,
   "id": "33bdb3b2",
   "metadata": {},
   "outputs": [
    {
     "name": "stdout",
     "output_type": "stream",
     "text": [
      "True\n"
     ]
    }
   ],
   "source": [
    "print(5!=8)"
   ]
  },
  {
   "cell_type": "code",
   "execution_count": 7,
   "id": "31f2dc88",
   "metadata": {},
   "outputs": [
    {
     "name": "stdout",
     "output_type": "stream",
     "text": [
      "False\n"
     ]
    }
   ],
   "source": [
    "print('vanya'!='vanya')"
   ]
  },
  {
   "cell_type": "code",
   "execution_count": 8,
   "id": "e0c23a0f",
   "metadata": {},
   "outputs": [
    {
     "name": "stdout",
     "output_type": "stream",
     "text": [
      "True\n"
     ]
    }
   ],
   "source": [
    "# > and < operators, just greater than and less that operators\n",
    "\n",
    "print(5>2)"
   ]
  },
  {
   "cell_type": "code",
   "execution_count": 9,
   "id": "c5768149",
   "metadata": {},
   "outputs": [
    {
     "ename": "SyntaxError",
     "evalue": "expression cannot contain assignment, perhaps you meant \"==\"? (3331077368.py, line 1)",
     "output_type": "error",
     "traceback": [
      "\u001b[0;36m  File \u001b[0;32m\"/tmp/ipykernel_4070/3331077368.py\"\u001b[0;36m, line \u001b[0;32m1\u001b[0m\n\u001b[0;31m    print(5=2)\u001b[0m\n\u001b[0m          ^\u001b[0m\n\u001b[0;31mSyntaxError\u001b[0m\u001b[0;31m:\u001b[0m expression cannot contain assignment, perhaps you meant \"==\"?\n"
     ]
    }
   ],
   "source": [
    "print(5=2)"
   ]
  },
  {
   "cell_type": "code",
   "execution_count": 10,
   "id": "7047b535",
   "metadata": {},
   "outputs": [
    {
     "name": "stdout",
     "output_type": "stream",
     "text": [
      "True\n"
     ]
    }
   ],
   "source": [
    "print(5<6)"
   ]
  },
  {
   "cell_type": "code",
   "execution_count": 11,
   "id": "f31380f6",
   "metadata": {},
   "outputs": [
    {
     "name": "stdout",
     "output_type": "stream",
     "text": [
      "False\n"
     ]
    }
   ],
   "source": [
    "print(5<3)"
   ]
  },
  {
   "cell_type": "code",
   "execution_count": 12,
   "id": "20f72b63",
   "metadata": {},
   "outputs": [],
   "source": [
    "# >= and <=, these are similar to greater than and less that operator, but with an equal to with them/\n"
   ]
  },
  {
   "cell_type": "code",
   "execution_count": 13,
   "id": "6da3e61d",
   "metadata": {},
   "outputs": [
    {
     "ename": "SyntaxError",
     "evalue": "expression cannot contain assignment, perhaps you meant \"==\"? (578194208.py, line 1)",
     "output_type": "error",
     "traceback": [
      "\u001b[0;36m  File \u001b[0;32m\"/tmp/ipykernel_4070/578194208.py\"\u001b[0;36m, line \u001b[0;32m1\u001b[0m\n\u001b[0;31m    print(5=5)\u001b[0m\n\u001b[0m          ^\u001b[0m\n\u001b[0;31mSyntaxError\u001b[0m\u001b[0;31m:\u001b[0m expression cannot contain assignment, perhaps you meant \"==\"?\n"
     ]
    }
   ],
   "source": [
    "print(5=5)"
   ]
  },
  {
   "cell_type": "code",
   "execution_count": 14,
   "id": "878011ff",
   "metadata": {},
   "outputs": [
    {
     "name": "stdout",
     "output_type": "stream",
     "text": [
      "False\n"
     ]
    }
   ],
   "source": [
    "print(5>5)"
   ]
  },
  {
   "cell_type": "code",
   "execution_count": 15,
   "id": "5b3fe17d",
   "metadata": {},
   "outputs": [
    {
     "name": "stdout",
     "output_type": "stream",
     "text": [
      "False\n"
     ]
    }
   ],
   "source": [
    "print(5<5)"
   ]
  },
  {
   "cell_type": "code",
   "execution_count": 16,
   "id": "87022829",
   "metadata": {},
   "outputs": [
    {
     "name": "stdout",
     "output_type": "stream",
     "text": [
      "True\n"
     ]
    }
   ],
   "source": [
    "print(5>=4)"
   ]
  },
  {
   "cell_type": "code",
   "execution_count": 17,
   "id": "0ff6d0c6",
   "metadata": {},
   "outputs": [
    {
     "name": "stdout",
     "output_type": "stream",
     "text": [
      "True\n"
     ]
    }
   ],
   "source": [
    "print(5>=5)"
   ]
  },
  {
   "cell_type": "code",
   "execution_count": 18,
   "id": "51e2d4f9",
   "metadata": {},
   "outputs": [
    {
     "name": "stdout",
     "output_type": "stream",
     "text": [
      "True\n"
     ]
    }
   ],
   "source": [
    "print(6<=90)"
   ]
  },
  {
   "cell_type": "code",
   "execution_count": 19,
   "id": "0f28b260",
   "metadata": {},
   "outputs": [],
   "source": [
    "# AND and OR \n",
    "# And means both of the things are need to be true\n",
    "# OR means only one thing if true will suffice"
   ]
  },
  {
   "cell_type": "code",
   "execution_count": 20,
   "id": "00bb93e9",
   "metadata": {},
   "outputs": [
    {
     "name": "stdout",
     "output_type": "stream",
     "text": [
      "True\n"
     ]
    }
   ],
   "source": [
    "a = 90\n",
    "b = 34\n",
    "c = 12\n",
    "\n",
    "print(a>b)"
   ]
  },
  {
   "cell_type": "code",
   "execution_count": 21,
   "id": "625b62cf",
   "metadata": {},
   "outputs": [
    {
     "name": "stdout",
     "output_type": "stream",
     "text": [
      "True\n"
     ]
    }
   ],
   "source": [
    "print(b>c)"
   ]
  },
  {
   "cell_type": "code",
   "execution_count": 23,
   "id": "112abed4",
   "metadata": {},
   "outputs": [
    {
     "name": "stdout",
     "output_type": "stream",
     "text": [
      "False\n"
     ]
    }
   ],
   "source": [
    "print(a>b and c>b)"
   ]
  },
  {
   "cell_type": "code",
   "execution_count": 26,
   "id": "e5fead6b",
   "metadata": {},
   "outputs": [
    {
     "name": "stdout",
     "output_type": "stream",
     "text": [
      "False\n"
     ]
    }
   ],
   "source": [
    "print(b>a or c>b)"
   ]
  },
  {
   "cell_type": "markdown",
   "id": "10ad3b58",
   "metadata": {},
   "source": [
    "STATEMENTS"
   ]
  },
  {
   "cell_type": "code",
   "execution_count": 27,
   "id": "ba00c37c",
   "metadata": {},
   "outputs": [],
   "source": [
    "# Statements - something which python can execute, statements follows the rule of indentation\n",
    "# indentation- space or gap"
   ]
  },
  {
   "cell_type": "code",
   "execution_count": 30,
   "id": "01ace1a1",
   "metadata": {},
   "outputs": [
    {
     "name": "stdout",
     "output_type": "stream",
     "text": [
      "2 3\n"
     ]
    }
   ],
   "source": [
    "a = 2\n",
    "b = 3\n",
    "\n",
    "if a>b:\n",
    "    a = 7\n",
    "    b = 9\n",
    "\n",
    "print(a,b)"
   ]
  },
  {
   "cell_type": "code",
   "execution_count": null,
   "id": "53eb5213",
   "metadata": {},
   "outputs": [],
   "source": [
    "# if else and Elif\n",
    "# if something is there perform this\n",
    "# else perfrorm that\n",
    "# elif- else if \n",
    "\n"
   ]
  },
  {
   "cell_type": "code",
   "execution_count": 34,
   "id": "f3ebfdd2",
   "metadata": {},
   "outputs": [
    {
     "name": "stdout",
     "output_type": "stream",
     "text": [
      "wrong ansswer\n"
     ]
    }
   ],
   "source": [
    "a = 'vanya'\n",
    "b = 'vaa'\n",
    "c = 'vaya'\n",
    "\n",
    "if a==b:\n",
    "    print('right answer')\n",
    "elif b==c:\n",
    "    print('elif condition working')\n",
    "else:\n",
    "    print('wrong ansswer')"
   ]
  },
  {
   "cell_type": "code",
   "execution_count": null,
   "id": "b2846af5",
   "metadata": {},
   "outputs": [],
   "source": []
  },
  {
   "cell_type": "code",
   "execution_count": null,
   "id": "661325a7",
   "metadata": {},
   "outputs": [],
   "source": []
  },
  {
   "cell_type": "code",
   "execution_count": null,
   "id": "e89986ff",
   "metadata": {},
   "outputs": [],
   "source": []
  },
  {
   "cell_type": "code",
   "execution_count": null,
   "id": "2174b67c",
   "metadata": {},
   "outputs": [],
   "source": []
  },
  {
   "cell_type": "code",
   "execution_count": null,
   "id": "30c1ec82",
   "metadata": {},
   "outputs": [],
   "source": []
  },
  {
   "cell_type": "code",
   "execution_count": null,
   "id": "d48b6668",
   "metadata": {},
   "outputs": [],
   "source": []
  },
  {
   "cell_type": "code",
   "execution_count": null,
   "id": "96d28eb8",
   "metadata": {},
   "outputs": [],
   "source": []
  },
  {
   "cell_type": "code",
   "execution_count": null,
   "id": "744dcca6",
   "metadata": {},
   "outputs": [],
   "source": []
  },
  {
   "cell_type": "code",
   "execution_count": null,
   "id": "6dc3a585",
   "metadata": {},
   "outputs": [],
   "source": []
  }
 ],
 "metadata": {
  "kernelspec": {
   "display_name": "Python 3 (ipykernel)",
   "language": "python",
   "name": "python3"
  },
  "language_info": {
   "codemirror_mode": {
    "name": "ipython",
    "version": 3
   },
   "file_extension": ".py",
   "mimetype": "text/x-python",
   "name": "python",
   "nbconvert_exporter": "python",
   "pygments_lexer": "ipython3",
   "version": "3.9.7"
  }
 },
 "nbformat": 4,
 "nbformat_minor": 5
}
