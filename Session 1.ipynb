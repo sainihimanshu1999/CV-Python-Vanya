{
 "cells": [
  {
   "cell_type": "code",
   "execution_count": 1,
   "id": "a8082de5",
   "metadata": {},
   "outputs": [
    {
     "name": "stdout",
     "output_type": "stream",
     "text": [
      "Hello this is vanya from session 1\n"
     ]
    }
   ],
   "source": [
    "print('Hello this is vanya from session 1')"
   ]
  },
  {
   "cell_type": "markdown",
   "id": "f5a81b90",
   "metadata": {},
   "source": [
    "Hello this is session one"
   ]
  },
  {
   "cell_type": "code",
   "execution_count": 2,
   "id": "d7395298",
   "metadata": {},
   "outputs": [
    {
     "name": "stdout",
     "output_type": "stream",
     "text": [
      "18\n"
     ]
    }
   ],
   "source": [
    "A = 9\n",
    "b = 9\n",
    "print(A+b)"
   ]
  },
  {
   "cell_type": "code",
   "execution_count": null,
   "id": "4c1a5174",
   "metadata": {},
   "outputs": [],
   "source": []
  }
 ],
 "metadata": {
  "kernelspec": {
   "display_name": "Python 3 (ipykernel)",
   "language": "python",
   "name": "python3"
  },
  "language_info": {
   "codemirror_mode": {
    "name": "ipython",
    "version": 3
   },
   "file_extension": ".py",
   "mimetype": "text/x-python",
   "name": "python",
   "nbconvert_exporter": "python",
   "pygments_lexer": "ipython3",
   "version": "3.9.5"
  }
 },
 "nbformat": 4,
 "nbformat_minor": 5
}
