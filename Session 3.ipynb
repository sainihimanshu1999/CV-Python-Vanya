{
 "cells": [
  {
   "cell_type": "code",
   "execution_count": 1,
   "id": "fb2d17e2",
   "metadata": {},
   "outputs": [],
   "source": [
    "a = 93"
   ]
  },
  {
   "cell_type": "code",
   "execution_count": 2,
   "id": "47b75227",
   "metadata": {},
   "outputs": [
    {
     "name": "stdout",
     "output_type": "stream",
     "text": [
      "93\n"
     ]
    }
   ],
   "source": [
    "print(a)"
   ]
  },
  {
   "cell_type": "code",
   "execution_count": 3,
   "id": "13461fcf",
   "metadata": {},
   "outputs": [],
   "source": [
    "a = 83"
   ]
  },
  {
   "cell_type": "code",
   "execution_count": 4,
   "id": "9fe665b3",
   "metadata": {},
   "outputs": [
    {
     "name": "stdout",
     "output_type": "stream",
     "text": [
      "83\n"
     ]
    }
   ],
   "source": [
    "print(a)"
   ]
  },
  {
   "cell_type": "code",
   "execution_count": 5,
   "id": "f220812a",
   "metadata": {},
   "outputs": [],
   "source": [
    "a  = 'vanya'"
   ]
  },
  {
   "cell_type": "code",
   "execution_count": 6,
   "id": "4deaf635",
   "metadata": {},
   "outputs": [
    {
     "name": "stdout",
     "output_type": "stream",
     "text": [
      "vanya\n"
     ]
    }
   ],
   "source": [
    "print(a)"
   ]
  },
  {
   "cell_type": "code",
   "execution_count": 7,
   "id": "1d3084bd",
   "metadata": {},
   "outputs": [],
   "source": [
    "a = 83"
   ]
  },
  {
   "cell_type": "code",
   "execution_count": 8,
   "id": "afc04b6e",
   "metadata": {},
   "outputs": [
    {
     "name": "stdout",
     "output_type": "stream",
     "text": [
      "83\n",
      "<class 'int'>\n"
     ]
    }
   ],
   "source": [
    "print(a)\n",
    "print(type(a))"
   ]
  },
  {
   "cell_type": "code",
   "execution_count": 9,
   "id": "29ff1c49",
   "metadata": {},
   "outputs": [
    {
     "name": "stdout",
     "output_type": "stream",
     "text": [
      "vanya\n",
      "<class 'str'>\n"
     ]
    }
   ],
   "source": [
    "a  = 'vanya'\n",
    "print(a)\n",
    "print(type(a))"
   ]
  },
  {
   "cell_type": "code",
   "execution_count": 10,
   "id": "2028dc1c",
   "metadata": {},
   "outputs": [
    {
     "name": "stdout",
     "output_type": "stream",
     "text": [
      "converted to string\n"
     ]
    },
    {
     "data": {
      "text/plain": [
       "str"
      ]
     },
     "execution_count": 10,
     "metadata": {},
     "output_type": "execute_result"
    }
   ],
   "source": [
    "a  =3\n",
    "a = a + 3*a\n",
    "a = 'converted to string'\n",
    "\n",
    "print(a)\n",
    "type(a)"
   ]
  },
  {
   "cell_type": "code",
   "execution_count": 13,
   "id": "8e516cc3",
   "metadata": {},
   "outputs": [
    {
     "name": "stdout",
     "output_type": "stream",
     "text": [
      "Hello i am a string with single quotes\n",
      " Hello i am string with double quotes\n",
      "<class 'str'>\n"
     ]
    }
   ],
   "source": [
    "a = 'Hello i am a string with single quotes'\n",
    "b = \" Hello i am string with double quotes\"\n",
    "\n",
    "print(a)\n",
    "print(b)\n",
    "type(a)\n",
    "print(type(b))\n"
   ]
  },
  {
   "cell_type": "code",
   "execution_count": 26,
   "id": "7110cb07",
   "metadata": {},
   "outputs": [
    {
     "name": "stdout",
     "output_type": "stream",
     "text": [
      " vanya's laptop's\n"
     ]
    }
   ],
   "source": [
    "# escape sequence when we use backslash\n",
    "a = 'vanya\\'s laptop'\n",
    "# it is called as combination of quotes\n",
    "b = \" vanya's laptop's\"\n",
    "print(b)"
   ]
  },
  {
   "cell_type": "code",
   "execution_count": 30,
   "id": "6122104a",
   "metadata": {},
   "outputs": [
    {
     "name": "stdout",
     "output_type": "stream",
     "text": [
      "y\n"
     ]
    }
   ],
   "source": [
    "# indexing\n",
    "a = 'vanya'\n",
    "# v - 0 a-1 n-2 y-3 a-4\n",
    "print(a[3])"
   ]
  },
  {
   "cell_type": "code",
   "execution_count": 31,
   "id": "1f3706e9",
   "metadata": {},
   "outputs": [],
   "source": [
    "# SLICING"
   ]
  },
  {
   "cell_type": "code",
   "execution_count": 37,
   "id": "250941eb",
   "metadata": {},
   "outputs": [
    {
     "name": "stdout",
     "output_type": "stream",
     "text": [
      "ifornia\n",
      "cal\n"
     ]
    }
   ],
   "source": [
    "b = 'california'\n",
    "#when the number is before colon it is included in the output\n",
    "print(b[3: ])\n",
    "#when the number is after the colon it is *not* included in the output\n",
    "print(b[:3])\n"
   ]
  },
  {
   "cell_type": "code",
   "execution_count": 38,
   "id": "2c1128d4",
   "metadata": {},
   "outputs": [
    {
     "name": "stdout",
     "output_type": "stream",
     "text": [
      "paddy\n",
      "pad\n"
     ]
    }
   ],
   "source": [
    "c = 'paddy'\n",
    "a = c[:3]\n",
    "print(c)\n",
    "print(a)"
   ]
  },
  {
   "cell_type": "code",
   "execution_count": 42,
   "id": "5c5889e7",
   "metadata": {},
   "outputs": [
    {
     "name": "stdout",
     "output_type": "stream",
     "text": [
      "l\n",
      "o\n",
      "schoo\n"
     ]
    }
   ],
   "source": [
    "#negative indexing and slicing works in neagtive indexing too\n",
    "n = 'school'\n",
    "print(n[-1])\n",
    "print(n[-3])\n",
    "print(n[:-1])"
   ]
  },
  {
   "cell_type": "code",
   "execution_count": 57,
   "id": "b502850e",
   "metadata": {},
   "outputs": [
    {
     "name": "stdout",
     "output_type": "stream",
     "text": [
      "wio\n"
     ]
    }
   ],
   "source": [
    "# double colon indexing\n",
    "d = 'washington'\n",
    "print(d[::4])"
   ]
  },
  {
   "cell_type": "code",
   "execution_count": 48,
   "id": "9ba195da",
   "metadata": {},
   "outputs": [
    {
     "ename": "TypeError",
     "evalue": "'str' object does not support item assignment",
     "output_type": "error",
     "traceback": [
      "\u001b[0;31m---------------------------------------------------------------------------\u001b[0m",
      "\u001b[0;31mTypeError\u001b[0m                                 Traceback (most recent call last)",
      "\u001b[0;32m/tmp/ipykernel_10100/3932119478.py\u001b[0m in \u001b[0;36m<module>\u001b[0;34m\u001b[0m\n\u001b[1;32m      1\u001b[0m \u001b[0;31m# strings are immutable it means that i can't be changes\u001b[0m\u001b[0;34m\u001b[0m\u001b[0;34m\u001b[0m\u001b[0m\n\u001b[1;32m      2\u001b[0m \u001b[0md\u001b[0m  \u001b[0;34m=\u001b[0m \u001b[0;34m'vanya'\u001b[0m\u001b[0;34m\u001b[0m\u001b[0;34m\u001b[0m\u001b[0m\n\u001b[0;32m----> 3\u001b[0;31m \u001b[0md\u001b[0m\u001b[0;34m[\u001b[0m\u001b[0;36m3\u001b[0m\u001b[0;34m]\u001b[0m \u001b[0;34m=\u001b[0m \u001b[0;34m'n'\u001b[0m\u001b[0;34m\u001b[0m\u001b[0;34m\u001b[0m\u001b[0m\n\u001b[0m\u001b[1;32m      4\u001b[0m \u001b[0mprint\u001b[0m\u001b[0;34m(\u001b[0m\u001b[0md\u001b[0m\u001b[0;34m[\u001b[0m\u001b[0;36m3\u001b[0m\u001b[0;34m]\u001b[0m\u001b[0;34m)\u001b[0m\u001b[0;34m\u001b[0m\u001b[0;34m\u001b[0m\u001b[0m\n",
      "\u001b[0;31mTypeError\u001b[0m: 'str' object does not support item assignment"
     ]
    }
   ],
   "source": [
    "# strings are immutable it means that i can't be changes\n",
    "d  = 'vanya'\n",
    "d[3] = 'n'\n",
    "print(d[3])"
   ]
  },
  {
   "cell_type": "code",
   "execution_count": 54,
   "id": "1d46f0d4",
   "metadata": {},
   "outputs": [
    {
     "name": "stdout",
     "output_type": "stream",
     "text": [
      "monkey banana\n",
      " \n"
     ]
    }
   ],
   "source": [
    "# concatenation of strings\n",
    "a = 'monkey'\n",
    "b = 'banana'\n",
    "c = a+' '+b\n",
    "print(c)\n",
    "\n",
    "\n"
   ]
  },
  {
   "cell_type": "code",
   "execution_count": 58,
   "id": "e19aea35",
   "metadata": {
    "scrolled": true
   },
   "outputs": [
    {
     "name": "stdout",
     "output_type": "stream",
     "text": [
      "nomel\n"
     ]
    }
   ],
   "source": [
    "# Reversing a string\n",
    "a = 'lemon'\n",
    "print(a[::-1])"
   ]
  },
  {
   "cell_type": "code",
   "execution_count": 60,
   "id": "7dcd1c09",
   "metadata": {},
   "outputs": [],
   "source": [
    "# built in methods\n",
    "a = 'i have an Iphone'"
   ]
  },
  {
   "cell_type": "code",
   "execution_count": 61,
   "id": "3c334f84",
   "metadata": {
    "scrolled": true
   },
   "outputs": [
    {
     "name": "stdout",
     "output_type": "stream",
     "text": [
      "I HAVE AN IPHONE\n"
     ]
    }
   ],
   "source": [
    "# upper() means uppercase\n",
    "print(a.upper())"
   ]
  },
  {
   "cell_type": "code",
   "execution_count": 62,
   "id": "4be090c8",
   "metadata": {},
   "outputs": [
    {
     "name": "stdout",
     "output_type": "stream",
     "text": [
      "i have an iphone\n"
     ]
    }
   ],
   "source": [
    "#lower() means lower case\n",
    "print(a.lower())"
   ]
  },
  {
   "cell_type": "code",
   "execution_count": 63,
   "id": "d1337e2b",
   "metadata": {},
   "outputs": [
    {
     "name": "stdout",
     "output_type": "stream",
     "text": [
      "['i', 'have', 'an', 'iphone']\n"
     ]
    }
   ],
   "source": [
    "# split() it splits the string by the space\n",
    "\n",
    "print(a.split())"
   ]
  },
  {
   "cell_type": "code",
   "execution_count": 65,
   "id": "a3dd9e12",
   "metadata": {},
   "outputs": [
    {
     "name": "stdout",
     "output_type": "stream",
     "text": [
      "['i have an i', 'hone']\n"
     ]
    }
   ],
   "source": [
    "# split('x') where x is in the string\n",
    "print(a.split('p'))"
   ]
  },
  {
   "cell_type": "code",
   "execution_count": 68,
   "id": "ce6d4f76",
   "metadata": {},
   "outputs": [
    {
     "name": "stdout",
     "output_type": "stream",
     "text": [
      " hello my name is vanya\n"
     ]
    }
   ],
   "source": [
    "# print formatting\n",
    "\n",
    "a = ' hello my name is {}'\n",
    "\n",
    "print(a.format('vanya'))"
   ]
  },
  {
   "cell_type": "code",
   "execution_count": null,
   "id": "df39b34e",
   "metadata": {},
   "outputs": [],
   "source": []
  }
 ],
 "metadata": {
  "kernelspec": {
   "display_name": "Python 3 (ipykernel)",
   "language": "python",
   "name": "python3"
  },
  "language_info": {
   "codemirror_mode": {
    "name": "ipython",
    "version": 3
   },
   "file_extension": ".py",
   "mimetype": "text/x-python",
   "name": "python",
   "nbconvert_exporter": "python",
   "pygments_lexer": "ipython3",
   "version": "3.9.7"
  }
 },
 "nbformat": 4,
 "nbformat_minor": 5
}
